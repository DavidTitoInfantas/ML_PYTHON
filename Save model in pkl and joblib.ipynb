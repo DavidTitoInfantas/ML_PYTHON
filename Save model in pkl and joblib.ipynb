{
 "cells": [
  {
   "cell_type": "code",
   "execution_count": null,
   "metadata": {},
   "outputs": [],
   "source": []
  },
  {
   "cell_type": "code",
   "execution_count": null,
   "metadata": {},
   "outputs": [],
   "source": []
  },
  {
   "cell_type": "code",
   "execution_count": null,
   "metadata": {},
   "outputs": [],
   "source": []
  },
  {
   "cell_type": "code",
   "execution_count": 1,
   "metadata": {},
   "outputs": [],
   "source": [
    "import numpy as np\n",
    "import pandas as pd\n",
    "from sklearn.compose import ColumnTransformer\n",
    "from sklearn.feature_selection import SelectPercentile\n",
    "from sklearn.model_selection import StratifiedKFold, RandomizedSearchCV\n",
    "from sklearn.preprocessing import OneHotEncoder #, SimpleImputer\n",
    "from sklearn.impute import SimpleImputer\n",
    "from xgboost import XGBClassifier\n",
    "from sklearn.pipeline import Pipeline\n",
    "\n",
    "# Carregando o dataset\n",
    "# URL do conjunto de dados Titanic\n",
    "url = 'https://raw.githubusercontent.com/datasciencedojo/datasets/master/titanic.csv'\n",
    "\n",
    "# Importando o conjunto de dados\n",
    "df = pd.read_csv(url)\n",
    "df = df.rename(columns={'Survived': 'Target'})\n",
    "df = df.drop(columns=['PassengerId', 'Name', 'Ticket'])\n",
    "\n",
    "# Selecionando as variáveis\n",
    "features = [x for x in list(df.columns) if x not in ['Target']] # Exclui a coluna target\n",
    "target = ['Target']\n",
    "\n",
    "# Pré-processamento\n",
    "# Imputação de valores missing\n",
    "colunas_numericas = list(df.select_dtypes(include=['number']).columns)\n",
    "colunas_numericas.remove('Target')\n",
    "imputer = SimpleImputer(strategy='median')\n",
    "\n",
    "# imputer.fit(df[features])\n",
    "\n",
    "# Transformação de variáveis categóricas\n",
    "categorical_features = list(df.select_dtypes(include=['category', 'object']).columns)\n",
    "onehot_encoder = OneHotEncoder(handle_unknown='ignore', sparse_output=False)\n",
    "#onehot_encoder.fit(df[categorical_features])\n",
    "\n",
    "# Pré-processamento em pipeline\n",
    "preprocessor = ColumnTransformer([\n",
    "    ('imputer', imputer, colunas_numericas),\n",
    "    ('onehot', onehot_encoder, categorical_features)\n",
    "])\n",
    "\n",
    "# Seleção de features por percentil\n",
    "selector = SelectPercentile(percentile=90)\n",
    "\n",
    "\n",
    "\n",
    "# Parâmetros para busca aleatória\n",
    "param_grid = {\n",
    "    #'n_estimators': [50],  #np.linspace(100, 500, 5, dtype=int),\n",
    "    'model__eta': [0.01], #np.linspace(0.01, 0.1, 5),\n",
    "    'model__max_depth': [3, 5],\n",
    "    #'gamma': [0, 0.1],\n",
    "}\n",
    "\n",
    "# Modelo XGBoost\n",
    "model = XGBClassifier()\n",
    "\n",
    "# Pipeline completo\n",
    "pipeline = Pipeline([\n",
    "    ('preprocessor', preprocessor),\n",
    "    ('selector', selector),\n",
    "    ('model', model)\n",
    "])\n",
    "\n",
    "# Treino com K-Fold Stratificado\n",
    "cv = StratifiedKFold(n_splits=5, shuffle=True, random_state=42)\n",
    "\n",
    "# Busca aleatória com validação cruzada\n",
    "search = RandomizedSearchCV(pipeline, param_grid, cv=cv, n_iter=10, verbose=1)\n"
   ]
  },
  {
   "cell_type": "code",
   "execution_count": 2,
   "metadata": {},
   "outputs": [
    {
     "name": "stderr",
     "output_type": "stream",
     "text": [
      "/home/david/anaconda3/envs/Analitico_base/lib/python3.10/site-packages/sklearn/model_selection/_search.py:318: UserWarning: The total space of parameters 2 is smaller than n_iter=10. Running 2 iterations. For exhaustive searches, use GridSearchCV.\n",
      "  warnings.warn(\n",
      "/home/david/anaconda3/envs/Analitico_base/lib/python3.10/site-packages/sklearn/utils/validation.py:1300: DataConversionWarning: A column-vector y was passed when a 1d array was expected. Please change the shape of y to (n_samples, ), for example using ravel().\n",
      "  y = column_or_1d(y, warn=True)\n",
      "/home/david/anaconda3/envs/Analitico_base/lib/python3.10/site-packages/sklearn/utils/validation.py:1300: DataConversionWarning: A column-vector y was passed when a 1d array was expected. Please change the shape of y to (n_samples, ), for example using ravel().\n",
      "  y = column_or_1d(y, warn=True)\n",
      "/home/david/anaconda3/envs/Analitico_base/lib/python3.10/site-packages/sklearn/utils/validation.py:1300: DataConversionWarning: A column-vector y was passed when a 1d array was expected. Please change the shape of y to (n_samples, ), for example using ravel().\n",
      "  y = column_or_1d(y, warn=True)\n"
     ]
    },
    {
     "name": "stdout",
     "output_type": "stream",
     "text": [
      "Fitting 5 folds for each of 2 candidates, totalling 10 fits\n"
     ]
    },
    {
     "name": "stderr",
     "output_type": "stream",
     "text": [
      "/home/david/anaconda3/envs/Analitico_base/lib/python3.10/site-packages/sklearn/utils/validation.py:1300: DataConversionWarning: A column-vector y was passed when a 1d array was expected. Please change the shape of y to (n_samples, ), for example using ravel().\n",
      "  y = column_or_1d(y, warn=True)\n",
      "/home/david/anaconda3/envs/Analitico_base/lib/python3.10/site-packages/sklearn/utils/validation.py:1300: DataConversionWarning: A column-vector y was passed when a 1d array was expected. Please change the shape of y to (n_samples, ), for example using ravel().\n",
      "  y = column_or_1d(y, warn=True)\n",
      "/home/david/anaconda3/envs/Analitico_base/lib/python3.10/site-packages/sklearn/utils/validation.py:1300: DataConversionWarning: A column-vector y was passed when a 1d array was expected. Please change the shape of y to (n_samples, ), for example using ravel().\n",
      "  y = column_or_1d(y, warn=True)\n",
      "/home/david/anaconda3/envs/Analitico_base/lib/python3.10/site-packages/sklearn/utils/validation.py:1300: DataConversionWarning: A column-vector y was passed when a 1d array was expected. Please change the shape of y to (n_samples, ), for example using ravel().\n",
      "  y = column_or_1d(y, warn=True)\n",
      "/home/david/anaconda3/envs/Analitico_base/lib/python3.10/site-packages/sklearn/utils/validation.py:1300: DataConversionWarning: A column-vector y was passed when a 1d array was expected. Please change the shape of y to (n_samples, ), for example using ravel().\n",
      "  y = column_or_1d(y, warn=True)\n",
      "/home/david/anaconda3/envs/Analitico_base/lib/python3.10/site-packages/sklearn/utils/validation.py:1300: DataConversionWarning: A column-vector y was passed when a 1d array was expected. Please change the shape of y to (n_samples, ), for example using ravel().\n",
      "  y = column_or_1d(y, warn=True)\n",
      "/home/david/anaconda3/envs/Analitico_base/lib/python3.10/site-packages/sklearn/utils/validation.py:1300: DataConversionWarning: A column-vector y was passed when a 1d array was expected. Please change the shape of y to (n_samples, ), for example using ravel().\n",
      "  y = column_or_1d(y, warn=True)\n",
      "/home/david/anaconda3/envs/Analitico_base/lib/python3.10/site-packages/sklearn/utils/validation.py:1300: DataConversionWarning: A column-vector y was passed when a 1d array was expected. Please change the shape of y to (n_samples, ), for example using ravel().\n",
      "  y = column_or_1d(y, warn=True)\n"
     ]
    },
    {
     "name": "stdout",
     "output_type": "stream",
     "text": [
      "Melhor score: 0.8203816458477183\n",
      "Melhores parâmetros: {'model__max_depth': 5, 'model__eta': 0.01}\n"
     ]
    }
   ],
   "source": [
    "search.fit(df[features], df[target])\n",
    "\n",
    "# Resultados\n",
    "print(f\"Melhor score: {search.best_score_}\")\n",
    "print(f\"Melhores parâmetros: {search.best_params_}\")"
   ]
  },
  {
   "cell_type": "code",
   "execution_count": 3,
   "metadata": {},
   "outputs": [],
   "source": [
    "#from sklearn.externals import joblib \n",
    "\n",
    "# Save the best model\n",
    "best_model = search.best_estimator_\n",
    "#joblib.dump(best_model, 'best_xgboost_model.pkl')  # Save as 'best_xgboost_model.pkl'\n",
    "\n",
    "#print(\"Best model saved successfully!\")\n",
    "\n",
    "\n",
    "import joblib\n",
    "\n",
    "# Salvar o modelo\n",
    "joblib.dump(best_model, 'melhor_modelo_xgboost.joblib')\n",
    "\n",
    "print(\"Modelo salvo com sucesso!\")"
   ]
  },
  {
   "cell_type": "code",
   "execution_count": 5,
   "metadata": {},
   "outputs": [],
   "source": [
    "\n",
    "# Carregar o modelo\n",
    "modelo_carregado = joblib.load('melhor_modelo_xgboost.joblib')\n",
    "\n",
    "# Fazer previsões\n",
    "previsoes = modelo_carregado.predict(df[features])"
   ]
  },
  {
   "cell_type": "code",
   "execution_count": 6,
   "metadata": {},
   "outputs": [
    {
     "data": {
      "text/plain": [
       "{'objective': 'binary:logistic',\n",
       " 'base_score': None,\n",
       " 'booster': None,\n",
       " 'callbacks': None,\n",
       " 'colsample_bylevel': None,\n",
       " 'colsample_bynode': None,\n",
       " 'colsample_bytree': None,\n",
       " 'device': None,\n",
       " 'early_stopping_rounds': None,\n",
       " 'enable_categorical': False,\n",
       " 'eval_metric': None,\n",
       " 'feature_types': None,\n",
       " 'gamma': None,\n",
       " 'grow_policy': None,\n",
       " 'importance_type': None,\n",
       " 'interaction_constraints': None,\n",
       " 'learning_rate': None,\n",
       " 'max_bin': None,\n",
       " 'max_cat_threshold': None,\n",
       " 'max_cat_to_onehot': None,\n",
       " 'max_delta_step': None,\n",
       " 'max_depth': 5,\n",
       " 'max_leaves': None,\n",
       " 'min_child_weight': None,\n",
       " 'missing': nan,\n",
       " 'monotone_constraints': None,\n",
       " 'multi_strategy': None,\n",
       " 'n_estimators': None,\n",
       " 'n_jobs': None,\n",
       " 'num_parallel_tree': None,\n",
       " 'random_state': None,\n",
       " 'reg_alpha': None,\n",
       " 'reg_lambda': None,\n",
       " 'sampling_method': None,\n",
       " 'scale_pos_weight': None,\n",
       " 'subsample': None,\n",
       " 'tree_method': None,\n",
       " 'validate_parameters': None,\n",
       " 'verbosity': None,\n",
       " 'eta': 0.01}"
      ]
     },
     "execution_count": 6,
     "metadata": {},
     "output_type": "execute_result"
    }
   ],
   "source": [
    "# modelo_carregado[-1].get_booster().get_dump()[0]\n",
    "modelo_carregado[-1].get_params()"
   ]
  },
  {
   "cell_type": "code",
   "execution_count": 7,
   "metadata": {},
   "outputs": [
    {
     "data": {
      "text/plain": [
       "<Axes: title={'center': 'Feature importance'}, xlabel='F score', ylabel='Features'>"
      ]
     },
     "execution_count": 7,
     "metadata": {},
     "output_type": "execute_result"
    },
    {
     "data": {
      "image/png": "[encoded data removed]",
      "text/plain": [
       "<Figure size 640x480 with 1 Axes>"
      ]
     },
     "metadata": {},
     "output_type": "display_data"
    }
   ],
   "source": [
    "\n",
    "import xgboost as xgb\n",
    "xgb.plot_importance(modelo_carregado[-1])"
   ]
  },
  {
   "cell_type": "code",
   "execution_count": 8,
   "metadata": {},
   "outputs": [
    {
     "data": {
      "text/plain": [
       "143"
      ]
     },
     "execution_count": 8,
     "metadata": {},
     "output_type": "execute_result"
    }
   ],
   "source": [
    "#xgb.plot_tree(modelo_carregado[-1], num_trees=6)\n",
    "# modelo_carregado[-1].feature_importances_\n",
    "modelo_carregado[-1].n_features_in_"
   ]
  },
  {
   "cell_type": "code",
   "execution_count": 9,
   "metadata": {},
   "outputs": [],
   "source": [
    "nomes_variaveis = modelo_carregado[-1].get_booster().feature_names\n",
    "nomes_variaveis"
   ]
  },
  {
   "cell_type": "code",
   "execution_count": 10,
   "metadata": {},
   "outputs": [],
   "source": [
    "import pickle\n",
    "\n",
    "# Suponha que 'best_model' seja o modelo XGBoost resultante\n",
    "with open('best_model.pkl', 'wb') as f:\n",
    "    pickle.dump(modelo_carregado, f)\n"
   ]
  },
  {
   "cell_type": "code",
   "execution_count": 5,
   "metadata": {},
   "outputs": [],
   "source": [
    "import pickle\n",
    "\n",
    "# carregar modelo\n",
    "with open('best_model.pkl', 'rb') as f:\n",
    "    modelo_carregado_pkl = pickle.load(f)"
   ]
  },
  {
   "cell_type": "code",
   "execution_count": 12,
   "metadata": {},
   "outputs": [],
   "source": [
    "# Fazer previsões\n",
    "previsoes = modelo_carregado_pkl.predict_proba(df[features])"
   ]
  },
  {
   "cell_type": "code",
   "execution_count": 13,
   "metadata": {},
   "outputs": [
    {
     "data": {
      "text/plain": [
       "array([[0.7924201 , 0.20757991],\n",
       "       [0.25409365, 0.74590635],\n",
       "       [0.5296043 , 0.4703957 ],\n",
       "       ...,\n",
       "       [0.74817264, 0.2518274 ],\n",
       "       [0.5100986 , 0.48990145],\n",
       "       [0.7971367 , 0.20286329]], dtype=float32)"
      ]
     },
     "execution_count": 13,
     "metadata": {},
     "output_type": "execute_result"
    }
   ],
   "source": [
    "previsoes"
   ]
  },
  {
   "cell_type": "code",
   "execution_count": 14,
   "metadata": {},
   "outputs": [
    {
     "ename": "NameError",
     "evalue": "name 'plt' is not defined",
     "output_type": "error",
     "traceback": [
      "\u001b[0;31m---------------------------------------------------------------------------\u001b[0m",
      "\u001b[0;31mNameError\u001b[0m                                 Traceback (most recent call last)",
      "Cell \u001b[0;32mIn[14], line 6\u001b[0m\n\u001b[1;32m      3\u001b[0m prev_1 \u001b[38;5;241m=\u001b[39m previsoes[:, \u001b[38;5;241m1\u001b[39m]\n\u001b[1;32m      4\u001b[0m n_bins \u001b[38;5;241m=\u001b[39m \u001b[38;5;241m10\u001b[39m\n\u001b[0;32m----> 6\u001b[0m fig, axs \u001b[38;5;241m=\u001b[39m \u001b[43mplt\u001b[49m\u001b[38;5;241m.\u001b[39msubplots(\u001b[38;5;241m1\u001b[39m, \u001b[38;5;241m2\u001b[39m, sharey\u001b[38;5;241m=\u001b[39m\u001b[38;5;28;01mTrue\u001b[39;00m, tight_layout\u001b[38;5;241m=\u001b[39m\u001b[38;5;28;01mTrue\u001b[39;00m)\n\u001b[1;32m     10\u001b[0m \u001b[38;5;66;03m# We can set the number of bins with the *bins* keyword argument.\u001b[39;00m\n\u001b[1;32m     11\u001b[0m \u001b[38;5;66;03m#arg. alpha é para a transparencia\u001b[39;00m\n\u001b[1;32m     12\u001b[0m axs[\u001b[38;5;241m0\u001b[39m]\u001b[38;5;241m.\u001b[39mhist(prev_0, bins\u001b[38;5;241m=\u001b[39mn_bins, edgecolor\u001b[38;5;241m=\u001b[39m\u001b[38;5;124m'\u001b[39m\u001b[38;5;124mblack\u001b[39m\u001b[38;5;124m'\u001b[39m, alpha\u001b[38;5;241m=\u001b[39m\u001b[38;5;241m0.7\u001b[39m, \u001b[38;5;28mrange\u001b[39m\u001b[38;5;241m=\u001b[39m(\u001b[38;5;241m0\u001b[39m, \u001b[38;5;241m1\u001b[39m))\n",
      "\u001b[0;31mNameError\u001b[0m: name 'plt' is not defined"
     ]
    }
   ],
   "source": [
    "\n",
    "# Generate two normal distributions\n",
    "prev_0 = previsoes[:, 0]\n",
    "prev_1 = previsoes[:, 1]\n",
    "n_bins = 10\n",
    "\n",
    "fig, axs = plt.subplots(1, 2, sharey=True, tight_layout=True)\n",
    "\n",
    "\n",
    "\n",
    "# We can set the number of bins with the *bins* keyword argument.\n",
    "#arg. alpha é para a transparencia\n",
    "axs[0].hist(prev_0, bins=n_bins, edgecolor='black', alpha=0.7, range=(0, 1))\n",
    "axs[1].hist(prev_1, bins=n_bins, edgecolor='black', alpha=0.7, range=(0, 1))\n",
    "\n",
    "# Adicionar nomes das colunas e linhas\n",
    "axs[0].set_xlabel('Intervalos prev_0')\n",
    "axs[0].set_ylabel('Frequência')\n",
    "axs[1].set_xlabel('Intervalos prev_1')\n",
    "axs[1].set_ylabel('Frequência')\n",
    "\n",
    "plt.show()"
   ]
  },
  {
   "cell_type": "markdown",
   "metadata": {},
   "source": [
    "### Curva ROC"
   ]
  },
  {
   "cell_type": "code",
   "execution_count": 21,
   "metadata": {},
   "outputs": [
    {
     "name": "stdout",
     "output_type": "stream",
     "text": [
      "AUC: 0.9081370700582665\n"
     ]
    },
    {
     "data": {
      "image/png": "[encoded data removed]",
      "text/plain": [
       "<Figure size 640x480 with 1 Axes>"
      ]
     },
     "metadata": {},
     "output_type": "display_data"
    },
    {
     "data": {
      "text/plain": [
       "0.9081370700582665"
      ]
     },
     "execution_count": 21,
     "metadata": {},
     "output_type": "execute_result"
    }
   ],
   "source": [
    "def plot_roc_curve(y_real, probs, modelo):\n",
    "    '''\n",
    "    Descrição da função:\n",
    "    Esta função plota a curva ROC para um modelo de classificação binária.\n",
    "\n",
    "    Parametros:\n",
    "    y_real: array \n",
    "        Contém os valores reais do target\n",
    "    probs: array \n",
    "        Contém as probabilidades previstas pelo modelo\n",
    "    modelo: string\n",
    "        Nome do modelo\n",
    "\n",
    "    Retorna:\n",
    "    AUC: float, valor da área sob a curva ROC\n",
    "    Plot da curva ROC\n",
    "    '''\n",
    "    import matplotlib.pyplot as pyplot\n",
    "    from sklearn.metrics import roc_auc_score, roc_curve\n",
    "\n",
    "    rfp, rvp, lim = roc_curve(y_real, probs)\n",
    "    AUC = roc_auc_score(y_real, probs)\n",
    "    print(f'AUC: {AUC}')\n",
    "    # Gráfico da curva roc\n",
    "    pyplot.plot(rfp, rvp, marker='.', label=modelo,color=\"orange\")\n",
    "    pyplot.plot([0, 1], [0, 1], color='darkblue', linestyle='--')\n",
    "    # alterando o nome dos eixos\n",
    "    pyplot.xlabel('1- Especificidade')\n",
    "    pyplot.ylabel('Sensibilidade')\n",
    "    # Legenda\n",
    "    pyplot.legend()\n",
    "    # Mostrando o gráfico\n",
    "    pyplot.show()\n",
    "    return AUC\n",
    "\n",
    "\n",
    "\n",
    "probs = modelo_carregado_pkl.predict_proba(df[features])[:,1]\n",
    "y_teste= df[target]\n",
    "auc_metric = plot_roc_curve(y_teste, probs, 'XGBoost')\n",
    "auc_metric"
   ]
  },
  {
   "cell_type": "code",
   "execution_count": 22,
   "metadata": {},
   "outputs": [
    {
     "name": "stdout",
     "output_type": "stream",
     "text": [
      "              precision    recall  f1-score   support\n",
      "\n",
      "           0       0.82      0.95      0.88       549\n",
      "           1       0.89      0.66      0.76       342\n",
      "\n",
      "    accuracy                           0.84       891\n",
      "   macro avg       0.85      0.81      0.82       891\n",
      "weighted avg       0.85      0.84      0.83       891\n",
      "\n"
     ]
    }
   ],
   "source": [
    "from sklearn.metrics import classification_report # metricas de validação\n",
    "print(classification_report(y_teste, modelo_carregado_pkl.predict(df[features])))"
   ]
  },
  {
   "cell_type": "code",
   "execution_count": null,
   "metadata": {},
   "outputs": [],
   "source": [
    "y_teste, modelo_carregado_pkl.predict(df[features])"
   ]
  },
  {
   "cell_type": "markdown",
   "metadata": {},
   "source": [
    "### KS Metrica "
   ]
  },
  {
   "cell_type": "code",
   "execution_count": 44,
   "metadata": {},
   "outputs": [
    {
     "name": "stdout",
     "output_type": "stream",
     "text": [
      "Estatística KS: 0.09764309764309764\n",
      "Valor de p: 0.0004054290685530275\n"
     ]
    }
   ],
   "source": [
    "#Calcular o KS\n",
    "import numpy as np\n",
    "from scipy.stats import ks_2samp\n",
    "\n",
    "prev_0 = y_teste['Target'].values\n",
    "prev_1 = modelo_carregado_pkl.predict(df[features])\n",
    "# Calcular o teste KS entre as duas séries de pontuações\n",
    "ks_stat, p_value = ks_2samp(prev_0, prev_1)\n",
    "\n",
    "print(\"Estatística KS:\", ks_stat)\n",
    "print(\"Valor de p:\", p_value)\n",
    "#a maior ks stat, maior a diferença entre as duas distribuições"
   ]
  },
  {
   "cell_type": "code",
   "execution_count": null,
   "metadata": {},
   "outputs": [],
   "source": []
  }
 ],
 "metadata": {
  "kernelspec": {
   "display_name": "Analitico_base",
   "language": "python",
   "name": "python3"
  },
  "language_info": {
   "codemirror_mode": {
    "name": "ipython",
    "version": 3
   },
   "file_extension": ".py",
   "mimetype": "text/x-python",
   "name": "python",
   "nbconvert_exporter": "python",
   "pygments_lexer": "ipython3",
   "version": "3.10.11"
  }
 },
 "nbformat": 4,
 "nbformat_minor": 2
}
